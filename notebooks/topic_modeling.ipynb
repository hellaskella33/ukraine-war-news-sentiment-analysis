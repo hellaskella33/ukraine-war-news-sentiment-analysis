{
 "cells": [
  {
   "cell_type": "code",
   "execution_count": null,
   "metadata": {},
   "outputs": [],
   "source": [
    "import gensim\n",
    "from gensim import corpora"
   ]
  },
  {
   "cell_type": "code",
   "execution_count": null,
   "metadata": {},
   "outputs": [],
   "source": [
    "def load_preprocessed_articles(directory):\n",
    "    articles = []\n",
    "    for filename in os.listdir(directory):\n",
    "        if filename.endswith(\".txt\"):\n",
    "            with open(os.path.join(directory, filename), \"r\", encoding=\"utf-8\") as file:\n",
    "                content = file.read()\n",
    "                articles.append(content.split())\n",
    "    return articles\n",
    "\n",
    "\n",
    "def perform_topic_modeling(articles, num_topics=10):\n",
    "    dictionary = corpora.Dictionary(articles)\n",
    "    corpus = [dictionary.doc2bow(text) for text in articles]\n",
    "    \n",
    "    lda_model = gensim.models.LdaMulticore(corpus=corpus, id2word=dictionary, num_topics=num_topics)\n",
    "    \n",
    "    topics = lda_model.print_topics(num_words=10)\n",
    "    for topic in topics:\n",
    "        print(topic)"
   ]
  },
  {
   "cell_type": "code",
   "execution_count": null,
   "metadata": {},
   "outputs": [],
   "source": [
    "# Load preprocessed articles\n",
    "preprocessed_dir = \"../data/preprocessed/\"\n",
    "articles = load_preprocessed_articles(preprocessed_dir)\n",
    "\n",
    "# Perform topic modeling\n",
    "num_topics = 10\n",
    "perform_topic_modeling(articles, num_topics)"
   ]
  }
 ],
 "metadata": {
  "language_info": {
   "name": "python"
  }
 },
 "nbformat": 4,
 "nbformat_minor": 2
}
