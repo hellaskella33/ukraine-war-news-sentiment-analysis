{
 "cells": [
  {
   "cell_type": "code",
   "execution_count": null,
   "metadata": {},
   "outputs": [],
   "source": [
    "import pandas as pd\n",
    "import matplotlib.pyplot as plt\n",
    "import seaborn as sns\n",
    "\n",
    "# Завантаження анотованих даних\n",
    "annotated_articles = pd.read_json('data/key_annotated_articles.json')\n",
    "\n",
    "# Витягнення дати публікації з назви файлу та перетворення її на об'єкт datetime\n",
    "annotated_articles['publication_date'] = pd.to_datetime(annotated_articles['filename'].str[:8], format='%Y%m%d')\n",
    "\n"
   ]
  }
 ],
 "metadata": {
  "language_info": {
   "name": "python"
  }
 },
 "nbformat": 4,
 "nbformat_minor": 2
}
