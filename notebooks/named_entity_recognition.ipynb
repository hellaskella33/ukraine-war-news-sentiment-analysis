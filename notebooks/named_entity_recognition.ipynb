{
 "cells": [
  {
   "cell_type": "code",
   "execution_count": null,
   "metadata": {},
   "outputs": [],
   "source": [
    "import spacy\n",
    "\n",
    "def load_preprocessed_articles(directory):\n",
    "    articles = []\n",
    "    for filename in os.listdir(directory):\n",
    "        if filename.endswith(\".txt\"):\n",
    "            with open(os.path.join(directory, filename), \"r\", encoding=\"utf-8\") as file:\n",
    "                content = file.read()\n",
    "                articles.append(content)\n",
    "    return articles\n",
    "\n",
    "def perform_ner(articles):\n",
    "    nlp = spacy.load(\"en_core_web_sm\")\n",
    "    \n",
    "    for article in articles:\n",
    "        doc = nlp(article)\n",
    "        for ent in doc.ents:\n",
    "            print(f\"Text: {ent.text}, Label: {ent.label_}\")\n",
    "\n",
    "# Load preprocessed articles\n",
    "preprocessed_dir = \"../data/preprocessed/\"\n",
    "articles = load_preprocessed_articles(preprocessed_dir)\n",
    "\n",
    "# Perform NER\n",
    "perform_ner(articles)"
   ]
  }
 ],
 "metadata": {
  "language_info": {
   "name": "python"
  }
 },
 "nbformat": 4,
 "nbformat_minor": 2
}
